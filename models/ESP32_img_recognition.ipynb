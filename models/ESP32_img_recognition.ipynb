{
  "nbformat": 4,
  "nbformat_minor": 0,
  "metadata": {
    "colab": {
      "provenance": [],
      "gpuType": "T4"
    },
    "kernelspec": {
      "name": "python3",
      "display_name": "Python 3"
    },
    "language_info": {
      "name": "python"
    },
    "accelerator": "GPU"
  },
  "cells": [
    {
      "cell_type": "markdown",
      "source": [
        "# **Project Board: ESP32 Image Recognition for Terrain Classification**\n",
        "\n",
        "## **1. Import Dataset**\n",
        "- **Details**: Gather and organize image data.\n",
        "- **Tasks**:\n",
        "  - Source image data relevant to different terrain types.\n",
        "  - Convert images into a format compatible with PyTorch (e.g., tensors).\n",
        "  - Pull data from drive using png\n",
        "  - Determine and standardize image resolution (e.g., resize if needed).\n",
        "\n",
        "## **2. Data Preprocessing**\n",
        "- **Tasks**:\n",
        "  - Normalize image pixel values.\n",
        "  - Apply data augmentation techniques (e.g., rotations, flips) to increase dataset variability.\n",
        "  -- torchvision.transforms can be used in a DataLoader pipeline to apply augmentations such as random rotations, flips, or color jittering directly when loading the batch so maybe just do it dynamically\n",
        "  - Split data randomly into training, validation, and test sets.\n",
        "\n",
        "## **3. Model Architecture**\n",
        "- **Framework**: PyTorch\n",
        "- **Tasks**:\n",
        "  - Define the architecture of the neural network (e.g., CNN for image recognition).\n",
        "  - Choose the number of layers and nodes based on complexity.\n",
        "  - Integrate dropout layers if necessary to prevent overfitting.\n",
        "\n",
        "## **4. Loss Function**\n",
        "- **Details**:\n",
        "  - Select a suitable loss function, such as `CrossEntropyLoss` for classification tasks.\n",
        "- **Tasks**:\n",
        "  - Research and set up the initial loss function.\n",
        "  - Fine-tune or consider alternatives if performance needs improvement.\n",
        "\n",
        "## **5. Training**\n",
        "- **Framework**: PyTorch\n",
        "- **Optimizer**: Adam optimizer\n",
        "- **Tasks**:\n",
        "  - Implement training loop with forward pass, backward pass, and parameter updates.\n",
        "  - Set up early stopping criteria or callbacks for monitoring validation loss.\n",
        "  - Log performance metrics (e.g., loss and accuracy at each epoch).\n",
        "\n",
        "## **6. Evaluation and Testing**\n",
        "- **Tasks**:\n",
        "  - Evaluate model on the test dataset.\n",
        "  - Plot model performance\n",
        "  - Create confusion matrix and other relevant metrics (e.g., precision, recall).\n",
        "  - Fine-tune the model as needed based on results.\n",
        "\n",
        "## **7. Deployment**\n",
        "- **Tasks**:\n",
        "  - Test the model with real-time ESP32 input.\n",
        "  - Optimize the model for deployment, considering the constraints of the ESP32. Such as how often we try to judge an image\n",
        "  - Convert the PyTorch model to a lightweight format compatible with the device (e.g., use ONNX or TensorFlow Lite). IDK about this tbh?\n",
        "\n",
        "## **8. Documentation**\n",
        "- **Tasks**:\n",
        "  - Write clear documentation for data collection, training process, and model architecture.\n",
        "\n"
      ],
      "metadata": {
        "id": "uLXVYjOf3bJR"
      }
    },
    {
      "cell_type": "markdown",
      "source": [
        "## **1. Import Dataset**\n",
        "\n"
      ],
      "metadata": {
        "id": "OBHLCbW-8ve2"
      }
    },
    {
      "cell_type": "code",
      "source": [
        "import os\n",
        "from glob import glob\n",
        "from google.colab import drive\n",
        "from PIL import Image\n",
        "import numpy as np\n",
        "import matplotlib.pyplot as plt\n",
        "from torchvision import datasets, transforms\n",
        "from torch.utils.data import DataLoader, Dataset\n",
        "import torch\n",
        "import torch.nn as nn\n",
        "import torch.nn.functional as F\n",
        "from sklearn.model_selection import train_test_split\n",
        "\n",
        "drive.mount('/content/drive')\n",
        "folder_path = \"/content/drive/My Drive/full_clean\"\n",
        "image_files = [os.path.join(folder_path, file) for file in os.listdir(folder_path) if file.endswith('.jpg')]\n",
        "print(f\"Found {len(image_files)} images.\")\n",
        "\n",
        "\n",
        "# shared_drives_path = \"/content/drive/Shared drives/\"\n",
        "# print(os.listdir(shared_drives_path))"
      ],
      "metadata": {
        "colab": {
          "base_uri": "https://localhost:8080/"
        },
        "id": "ioB6cD4OMioT",
        "outputId": "ffd50574-89c2-4ef3-95bb-c38d44e4aef5"
      },
      "execution_count": 1,
      "outputs": [
        {
          "output_type": "stream",
          "name": "stdout",
          "text": [
            "Mounted at /content/drive\n",
            "Found 1 images.\n"
          ]
        }
      ]
    },
    {
      "cell_type": "code",
      "source": [
        "dirt = \"/dirt\"; grassy = \"/grassy\"; rocky = \"/rocky\"; sandy = \"/sandy\"\n",
        "\n",
        "#image_files = [os.path.join(folder_path, file) for file in os.listdir(folder_path) if file.endswith('.jpg')]\n",
        "dirt_image_files = glob(folder_path + dirt + '/*.png'); grass_image_files = glob(folder_path + grassy + '/*.png'); rocky_image_files = glob(folder_path + rocky + '/*.png'); sandy_image_files = glob(folder_path + sandy + '/*.png')\n",
        "\n",
        "print(f\"Dirt Images: {len(dirt_image_files)}\"); print(f\"Grass Images: {len(grass_image_files)}\"); print(f\"Rocky Images: {len(rocky_image_files)}\"); print(f\"Sandy Images: {len(sandy_image_files)}\")\n",
        "\n",
        "example_dirt_img = Image.open(dirt_image_files[0])\n",
        "example_grass_img = Image.open(grass_image_files[0])\n",
        "example_rocky_img = Image.open(rocky_image_files[0])\n",
        "example_sandy_img = Image.open(sandy_image_files[0])\n",
        "\n",
        "print(f\"Dirt Image Size: {example_dirt_img.size}\")\n",
        "\n",
        "\n",
        "# Combine all image files and assign labels manually\n",
        "all_image_files = dirt_image_files + grass_image_files + rocky_image_files + sandy_image_files\n",
        "labels = [0] * len(dirt_image_files) + [1] * len(grass_image_files) + [2] * len(rocky_image_files) + [3] * len(sandy_image_files)\n",
        "\n",
        "# Define class names\n",
        "class_names = ['dirt', 'grass', 'rocky', 'sandy']\n",
        "\n",
        "# print(f\"Labels: {labels}\")\n",
        "print(f\"Length of labels: {len(labels)}\")\n",
        "assert len(all_image_files) == len(labels), \"Number of image files and labels should be the same.\""
      ],
      "metadata": {
        "id": "unUIy1P89Dvd",
        "colab": {
          "base_uri": "https://localhost:8080/"
        },
        "outputId": "33deb716-6e5f-438d-9c51-9b5289d10e9e"
      },
      "execution_count": 2,
      "outputs": [
        {
          "output_type": "stream",
          "name": "stdout",
          "text": [
            "Dirt Images: 1545\n",
            "Grass Images: 3000\n",
            "Rocky Images: 1990\n",
            "Sandy Images: 2280\n",
            "Dirt Image Size: (1000, 563)\n",
            "Length of labels: 8815\n"
          ]
        }
      ]
    },
    {
      "cell_type": "code",
      "source": [
        "#Mini model\n",
        "mini = True\n",
        "if mini:\n",
        "  transform = transforms.Compose([\n",
        "      transforms.Resize((128, 64)),  # Resize images\n",
        "      transforms.ToTensor()          # Convert to tensor\n",
        "  ])\n",
        "else:\n",
        "  transform = transforms.Compose([\n",
        "      transforms.Resize((512, 256)),  # Resize images\n",
        "      transforms.ToTensor()          # Convert to tensor\n",
        "  ])\n",
        "\n",
        "class CustomImageDataset(Dataset):\n",
        "    def __init__(self, image_files, labels, transform=None):\n",
        "        self.image_files = image_files\n",
        "        self.labels = labels\n",
        "        self.transform = transform\n",
        "\n",
        "    def __len__(self):\n",
        "        return len(self.image_files)\n",
        "\n",
        "    def __getitem__(self, idx):\n",
        "        # Load image\n",
        "        img_path = self.image_files[idx]\n",
        "        image = Image.open(img_path)\n",
        "\n",
        "        # Apply transformations\n",
        "        if self.transform:\n",
        "            image = self.transform(image)\n",
        "\n",
        "        # Get corresponding label\n",
        "        label = self.labels[idx]\n",
        "\n",
        "        return image, label"
      ],
      "metadata": {
        "id": "NEqaskmjWpV4"
      },
      "execution_count": 3,
      "outputs": []
    },
    {
      "cell_type": "code",
      "source": [
        "assert len(all_image_files) == len(labels), \"Number of image files and labels should be the same.\"\n",
        "train_image_files, val_image_files, train_labels, val_labels = train_test_split(all_image_files, labels, test_size=0.2, random_state=42)\n",
        "# train_image_files, test_image_files, train_labels, test_labels = train_test_split(\n",
        "#        all_image_files, labels, test_size=0.2, random_state=42\n",
        "#    )\n",
        "# train_image_files, val_image_files, train_labels, val_labels = train_test_split(\n",
        "#        train_image_files, train_labels, test_size=0.4, random_state=42\n",
        "#    )\n",
        "\n",
        "# Instantiate the dataset\n",
        "dataset = CustomImageDataset(image_files=all_image_files, labels=labels, transform=transform)\n",
        "\n",
        "# Create custom datasets for training and validation\n",
        "train_dataset = CustomImageDataset(image_files=train_image_files, labels=train_labels, transform=transform)\n",
        "# test_dataset = CustomImageDataset(image_files=test_image_files, labels=test_labels, transform=transform)\n",
        "val_dataset = CustomImageDataset(image_files=val_image_files, labels=val_labels, transform=transform)\n",
        "\n",
        "# Create DataLoader for both training and validation\n",
        "batch_size = 16\n",
        "print(f\"Batch size: {batch_size}\")\n",
        "num_workers = 8\n",
        "print(f\"Number of workers: {num_workers}\")\n",
        "# train_dataloader = DataLoader(train_dataset, batch_size=batch_size, shuffle=True)\n",
        "train_dataloader = DataLoader(train_dataset, batch_size=batch_size, shuffle=True, num_workers=num_workers, pin_memory=True)\n",
        "\n",
        "# test_dataloader = DataLoader(test_dataset, batch_size=batch_size, shuffle=False)\n",
        "# test_dataloader = DataLoader(test_dataset, batch_size=batch_size, shuffle=False, num_workers=num_workers, pin_memory=True)\n",
        "\n",
        "# val_dataloader = DataLoader(val_dataset, batch_size=batch_size, shuffle=False)\n",
        "val_dataloader = DataLoader(val_dataset, batch_size=batch_size, shuffle=False, num_workers=num_workers, pin_memory=True)\n",
        "\n",
        "\n",
        "# Create a DataLoader for batching # Defunct\n",
        "# dataloader = DataLoader(dataset, batch_size=32, shuffle=True)\n",
        "\n",
        "# Example: Get one batch from DataLoader\n",
        "data_iter = iter(train_dataloader)\n",
        "images, labels = next(data_iter)\n",
        "\n",
        "print(f\"Batch of images shape: {images.shape}\")  # Should print (32, 3, 512, 256)\n",
        "print(f\"Batch of labels: {labels}\")  # Should print tensor of labels for the batch\n"
      ],
      "metadata": {
        "colab": {
          "base_uri": "https://localhost:8080/"
        },
        "id": "9J-KAd6FVG1i",
        "outputId": "fe28c2a2-a50e-494a-c977-9b2492e25890"
      },
      "execution_count": 4,
      "outputs": [
        {
          "output_type": "stream",
          "name": "stdout",
          "text": [
            "Batch size: 16\n",
            "Number of workers: 8\n"
          ]
        },
        {
          "output_type": "stream",
          "name": "stderr",
          "text": [
            "/usr/local/lib/python3.10/dist-packages/torch/utils/data/dataloader.py:617: UserWarning: This DataLoader will create 8 worker processes in total. Our suggested max number of worker in current system is 2, which is smaller than what this DataLoader is going to create. Please be aware that excessive worker creation might get DataLoader running slow or even freeze, lower the worker number to avoid potential slowness/freeze if necessary.\n",
            "  warnings.warn(\n"
          ]
        },
        {
          "output_type": "stream",
          "name": "stdout",
          "text": [
            "Batch of images shape: torch.Size([16, 3, 128, 64])\n",
            "Batch of labels: tensor([1, 1, 0, 1, 2, 0, 3, 1, 3, 2, 2, 1, 2, 2, 0, 3])\n"
          ]
        }
      ]
    },
    {
      "cell_type": "code",
      "source": [
        "#Show images\n",
        "shouldShow = False\n",
        "if shouldShow:\n",
        "  plt.imshow(example_dirt_img)\n",
        "  plt.axis('off')\n",
        "  plt.show()\n",
        "  plt.imshow(example_grass_img)\n",
        "  plt.axis('off')\n",
        "  plt.show()\n",
        "  plt.imshow(example_rocky_img)\n",
        "  plt.axis('off')\n",
        "  plt.show()\n",
        "  plt.imshow(example_sandy_img)\n",
        "  plt.axis('off')\n",
        "  plt.show()"
      ],
      "metadata": {
        "id": "1IFRyWorRUO9"
      },
      "execution_count": 5,
      "outputs": []
    },
    {
      "cell_type": "code",
      "source": [],
      "metadata": {
        "id": "HYatGL70XKp_"
      },
      "execution_count": 5,
      "outputs": []
    },
    {
      "cell_type": "markdown",
      "source": [
        "## **2. Data Preprocessing**\n"
      ],
      "metadata": {
        "id": "8DwADhvf84zM"
      }
    },
    {
      "cell_type": "code",
      "source": [],
      "metadata": {
        "id": "diIgPYno85Dx"
      },
      "execution_count": 5,
      "outputs": []
    },
    {
      "cell_type": "markdown",
      "source": [
        "## **5. Training**\n"
      ],
      "metadata": {
        "id": "dC0NpPAK85Ki"
      }
    },
    {
      "cell_type": "code",
      "source": [
        "# Model\n",
        "import torch.optim as optim\n",
        "\n",
        "class CNNModel(nn.Module):\n",
        "    def __init__(self):\n",
        "        super(CNNModel, self).__init__()\n",
        "\n",
        "        #First convulutional layer\n",
        "        self.conv1 = nn.Conv2d(in_channels=3, out_channels=16, kernel_size=3, stride=1, padding=1)\n",
        "        self.pool = nn.MaxPool2d(kernel_size=2,stride = 2)\n",
        "\n",
        "        #Second convulutional layer\n",
        "        self.conv2 = nn.Conv2d(in_channels=16, out_channels=32, kernel_size=3, stride=1, padding=1)\n",
        "\n",
        "        #Third convolutional layer\n",
        "        self.conv3 = nn.Conv2d(in_channels=32, out_channels=64, kernel_size=3, stride=1, padding=1)\n",
        "\n",
        "        # Fully connected layers\n",
        "        if mini:\n",
        "          self.fc1 = nn.Linear(64 * 16 * 8, 512)\n",
        "        else:\n",
        "          self.fc1 = nn.Linear(64 * 64 * 32, 512)\n",
        "        self.fc2 = nn.Linear(512, 4) #Map to our 4 classes\n",
        "\n",
        "    def forward(self, x):\n",
        "        x = self.pool(F.relu(self.conv1(x)))\n",
        "        x = self.pool(F.relu(self.conv2(x)))\n",
        "        x = self.pool(F.relu(self.conv3(x)))\n",
        "        # if mini:\n",
        "        #   x = x.view(-1, 64 * 64 * 32) #Flatten to 1d vector for fully connected layer\n",
        "        # else:\n",
        "        #   x = x.view(-1, 64 * 64 * 32) #Flatten to 1d vector for fully connected layer\n",
        "        x = x.view(-1, x.shape[1] * x.shape[2] * x.shape[3])\n",
        "        x = F.relu(self.fc1(x))\n",
        "        x = self.fc2(x)\n",
        "        return x\n",
        "\n",
        "\n",
        "model = CNNModel().to('cuda')\n",
        "\n",
        "print(model)\n",
        "\n"
      ],
      "metadata": {
        "colab": {
          "base_uri": "https://localhost:8080/"
        },
        "id": "TjvGxIMyXZ0Y",
        "outputId": "cc6c15d0-874e-4872-9cd9-0625c0e0ea6b"
      },
      "execution_count": 6,
      "outputs": [
        {
          "output_type": "stream",
          "name": "stdout",
          "text": [
            "CNNModel(\n",
            "  (conv1): Conv2d(3, 16, kernel_size=(3, 3), stride=(1, 1), padding=(1, 1))\n",
            "  (pool): MaxPool2d(kernel_size=2, stride=2, padding=0, dilation=1, ceil_mode=False)\n",
            "  (conv2): Conv2d(16, 32, kernel_size=(3, 3), stride=(1, 1), padding=(1, 1))\n",
            "  (conv3): Conv2d(32, 64, kernel_size=(3, 3), stride=(1, 1), padding=(1, 1))\n",
            "  (fc1): Linear(in_features=8192, out_features=512, bias=True)\n",
            "  (fc2): Linear(in_features=512, out_features=4, bias=True)\n",
            ")\n"
          ]
        }
      ]
    },
    {
      "cell_type": "code",
      "source": [
        "# Optimzer\n",
        "\n",
        "learning_rate = 0.001\n",
        "optimizer = torch.optim.Adam(model.parameters(), lr=learning_rate)\n",
        "criterion = nn.CrossEntropyLoss()\n",
        "\n",
        "print(f\"CUDA available: {torch.cuda.is_available()}\")\n",
        "print(f\"GPU Name: {torch.cuda.get_device_name(0) if torch.cuda.is_available() else 'No GPU found'}\")"
      ],
      "metadata": {
        "colab": {
          "base_uri": "https://localhost:8080/"
        },
        "id": "yktRWGm2XyL8",
        "outputId": "25c82b1c-7028-454b-83ad-7a77cd3bc138"
      },
      "execution_count": 7,
      "outputs": [
        {
          "output_type": "stream",
          "name": "stdout",
          "text": [
            "CUDA available: True\n",
            "GPU Name: Tesla T4\n"
          ]
        }
      ]
    },
    {
      "cell_type": "code",
      "execution_count": 8,
      "metadata": {
        "id": "sIyvD-d43W9N",
        "colab": {
          "base_uri": "https://localhost:8080/"
        },
        "outputId": "ba8f125a-36c8-45a3-e22f-3260931efcf2"
      },
      "outputs": [
        {
          "output_type": "stream",
          "name": "stdout",
          "text": [
            "25, 50, 75, 100, 125, 150, 175, 200, 225, 250, 275, 300, 325, 350, 375, 400, 425, Epoch [1/10], Loss: 0.7359\n",
            "Validation Loss: 0.4888, Validation Accuracy: 77.65%\n",
            "25, 50, 75, 100, 125, 150, 175, 200, 225, 250, 275, 300, 325, 350, 375, 400, 425, Epoch [2/10], Loss: 0.2987\n",
            "Validation Loss: 0.1484, Validation Accuracy: 95.18%\n",
            "25, 50, 75, 100, 125, 150, 175, 200, 225, 250, 275, 300, 325, 350, 375, 400, 425, Epoch [3/10], Loss: 0.1030\n",
            "Validation Loss: 0.1324, Validation Accuracy: 96.14%\n",
            "25, 50, 75, 100, 125, 150, 175, 200, 225, 250, 275, 300, 325, 350, 375, 400, 425, Epoch [4/10], Loss: 0.0802\n",
            "Validation Loss: 0.0276, Validation Accuracy: 99.32%\n",
            "25, 50, 75, 100, 125, 150, 175, 200, 225, 250, 275, 300, 325, 350, 375, 400, 425, Epoch [5/10], Loss: 0.0514\n",
            "Validation Loss: 0.0216, Validation Accuracy: 99.32%\n",
            "25, 50, 75, 100, 125, 150, 175, 200, 225, 250, 275, 300, 325, 350, 375, 400, 425, Epoch [6/10], Loss: 0.0594\n",
            "Validation Loss: 0.0686, Validation Accuracy: 97.45%\n",
            "25, 50, 75, 100, 125, 150, 175, 200, 225, 250, 275, 300, 325, 350, 375, 400, 425, Epoch [7/10], Loss: 0.0340\n",
            "Validation Loss: 0.0184, Validation Accuracy: 99.66%\n",
            "25, 50, 75, 100, 125, 150, 175, 200, 225, 250, 275, 300, 325, 350, 375, 400, 425, Epoch [8/10], Loss: 0.0154\n",
            "Validation Loss: 0.0086, Validation Accuracy: 99.77%\n",
            "25, 50, 75, 100, 125, 150, 175, 200, 225, 250, 275, 300, 325, 350, 375, 400, 425, Epoch [9/10], Loss: 0.1326\n",
            "Validation Loss: 0.1235, Validation Accuracy: 95.92%\n",
            "25, 50, 75, 100, 125, 150, 175, 200, 225, 250, 275, 300, 325, 350, 375, 400, 425, Epoch [10/10], Loss: 0.0435\n",
            "Validation Loss: 0.0169, Validation Accuracy: 99.60%\n"
          ]
        }
      ],
      "source": [
        "# !nvidia-smi\n",
        "# !lscpu\n",
        "# !top -n 1\n",
        "\n",
        "\n",
        "num_epochs = 10\n",
        "train_losses = []\n",
        "val_losses = []\n",
        "\n",
        "for epoch in range(num_epochs):\n",
        "  model.train()\n",
        "  epoch_loss = 0\n",
        "  num_batches = 0\n",
        "  for images, labels in train_dataloader:\n",
        "    num_batches += 1\n",
        "    if num_batches % 25 == 0:\n",
        "      print(num_batches, end=\", \")\n",
        "    images, labels = images.cuda(), labels.cuda()\n",
        "    optimizer.zero_grad()\n",
        "\n",
        "    outputs = model(images)\n",
        "    loss = criterion(outputs, labels)\n",
        "    loss.backward()\n",
        "    optimizer.step()\n",
        "\n",
        "    epoch_loss += loss.item()\n",
        "  train_losses.append(epoch_loss/len(train_dataloader))\n",
        "  print(f\"Epoch [{epoch+1}/{num_epochs}], Loss: {train_losses[-1]:.4f}\")\n",
        "\n",
        "  #Validation\n",
        "  model.eval()  # Set model to evaluation mode\n",
        "  val_running_loss = 0.0\n",
        "  val_correct = 0\n",
        "  val_total = 0\n",
        "\n",
        "  with torch.no_grad():  # No gradients needed for validation\n",
        "      for images, labels in val_dataloader:\n",
        "          images, labels = images.cuda(), labels.cuda()\n",
        "          outputs = model(images)\n",
        "          loss = criterion(outputs, labels)\n",
        "\n",
        "          val_running_loss += loss.item()\n",
        "          _, predicted = torch.max(outputs, 1)\n",
        "          val_total += labels.size(0)\n",
        "          val_correct += (predicted == labels).sum().item()\n",
        "\n",
        "  # Store validation loss for graphing\n",
        "  val_losses.append(val_running_loss / len(val_dataloader))\n",
        "\n",
        "  # Print validation statistics\n",
        "  print(f\"Validation Loss: {val_running_loss / len(val_dataloader):.4f}, Validation Accuracy: {100 * val_correct / val_total:.2f}%\")\n",
        "\n"
      ]
    },
    {
      "cell_type": "markdown",
      "source": [
        "## **6. Evaluation and Testing**\n"
      ],
      "metadata": {
        "id": "DsGjDF7E9DhL"
      }
    },
    {
      "cell_type": "code",
      "source": [
        "# Plot the training and validation loss curves\n",
        "plt.plot(train_losses, label='Training Loss')\n",
        "plt.plot(val_losses, label='Validation Loss')\n",
        "plt.xlabel('Epochs')\n",
        "plt.ylabel('Loss')\n",
        "plt.title('Training and Validation Loss')\n",
        "plt.legend()\n",
        "plt.show()"
      ],
      "metadata": {
        "id": "yNx1ruAW84Z5",
        "colab": {
          "base_uri": "https://localhost:8080/",
          "height": 472
        },
        "outputId": "46db0c76-f0dd-47b7-e057-245d9e10c2bc"
      },
      "execution_count": 9,
      "outputs": [
        {
          "output_type": "display_data",
          "data": {
            "text/plain": [
              "<Figure size 640x480 with 1 Axes>"
            ],
            "image/png": "[encoded data removed]"
          },
          "metadata": {}
        }
      ]
    }
  ]
}